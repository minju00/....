{
  "nbformat": 4,
  "nbformat_minor": 0,
  "metadata": {
    "colab": {
      "provenance": [],
      "authorship_tag": "ABX9TyNqwh443hadQh9IFlzrPRBD",
      "include_colab_link": true
    },
    "kernelspec": {
      "name": "python3",
      "display_name": "Python 3"
    },
    "language_info": {
      "name": "python"
    }
  },
  "cells": [
    {
      "cell_type": "markdown",
      "metadata": {
        "id": "view-in-github",
        "colab_type": "text"
      },
      "source": [
        "<a href=\"https://colab.research.google.com/github/minju00/..../blob/main/python_lesson_1.ipynb\" target=\"_parent\"><img src=\"https://colab.research.google.com/assets/colab-badge.svg\" alt=\"Open In Colab\"/></a>"
      ]
    },
    {
      "cell_type": "code",
      "execution_count": null,
      "metadata": {
        "colab": {
          "base_uri": "https://localhost:8080/"
        },
        "id": "ia1-OBOwsIeb",
        "outputId": "d5a81199-04b4-404c-d521-da9ec954b64c"
      },
      "outputs": [
        {
          "output_type": "stream",
          "name": "stdout",
          "text": [
            "Hello world!\n"
          ]
        }
      ],
      "source": [
        "print(\"Hello world!\")"
      ]
    },
    {
      "cell_type": "code",
      "source": [
        "print(\"Hello, world!\")\n",
        "print(1+2)\n",
        "# 문법 주석\n",
        "print(7/3) # 나누기\n",
        "print(7//3) # 몫\n",
        "print(7%3) # 나머지\n",
        "# ** 거듭제곱\n",
        "\n",
        "name = \"이민주\"\n",
        "age = 24\n",
        "department = \"소프트웨어학과\"\n",
        "print(\"이름 : \"+ name)\n",
        "print(\"나이 :\",age)\n",
        "print(\"학과 : \"+ department)\n",
        "# 파이썬에서 문자열끼리는 +로 이어서 출력할 수 있음"
      ],
      "metadata": {
        "colab": {
          "base_uri": "https://localhost:8080/"
        },
        "id": "5K3zu5yBsUxM",
        "outputId": "3235ff46-e673-46d7-da3e-1611d3de77ec"
      },
      "execution_count": null,
      "outputs": [
        {
          "output_type": "stream",
          "name": "stdout",
          "text": [
            "Hello, world!\n",
            "3\n",
            "2.3333333333333335\n",
            "2\n",
            "1\n",
            "이름 : 이민주\n",
            "나이 : 24\n",
            "학과 : 소프트웨어학과\n"
          ]
        }
      ]
    },
    {
      "cell_type": "code",
      "source": [
        "print(\"이름을 입력해주세요.\")\n",
        "name = input()\n",
        "print(\"당신의 이름은 \"+ name + \" 입니다\")"
      ],
      "metadata": {
        "colab": {
          "base_uri": "https://localhost:8080/"
        },
        "id": "fmDDTnBCskqJ",
        "outputId": "da0be2ab-507b-43bb-edbb-30155d720605"
      },
      "execution_count": null,
      "outputs": [
        {
          "output_type": "stream",
          "name": "stdout",
          "text": [
            "이름을 입력해주세요.\n",
            "매스컴\n",
            "당신의 이름은 매스컴 입니다\n"
          ]
        }
      ]
    },
    {
      "cell_type": "code",
      "source": [
        "print(\"이름을 입력하세요\")\n",
        "name = input()\n",
        "print(\"나이를 입력하세요\")\n",
        "age = int (input())\n",
        "print(\"학과를 입력하세요\")\n",
        "department = input()\n",
        "print(\"이름 : \"+name +\" 나이 : \" , age , \" 학과 :\"+department)"
      ],
      "metadata": {
        "colab": {
          "base_uri": "https://localhost:8080/"
        },
        "id": "LXOmO3UowQ8z",
        "outputId": "e595cab0-482d-4381-c98e-e28a15ba5a88"
      },
      "execution_count": null,
      "outputs": [
        {
          "output_type": "stream",
          "name": "stdout",
          "text": [
            "이름을 입력하세요\n",
            "이민주\n",
            "나이를 입력하세요\n",
            "24\n",
            "학과를 입력하세요\n",
            "소프트웨어학과\n",
            "이름 : 이민주 나이 :  24  학과 :소프트웨어학과\n"
          ]
        }
      ]
    },
    {
      "cell_type": "code",
      "source": [
        "# 반복문\n",
        "# for 문 while 문\n",
        "for i in range(0,5,1):\n",
        "  print(\"몇 번째? :\",i+1)\n",
        "  print(\"hello\") # 들여쓰기 해야됨 (tab 키)\n",
        "\n"
      ],
      "metadata": {
        "colab": {
          "base_uri": "https://localhost:8080/"
        },
        "id": "4lSv2qb2w7gp",
        "outputId": "6b959394-90e8-4042-83cd-df567df7f959"
      },
      "execution_count": null,
      "outputs": [
        {
          "output_type": "stream",
          "name": "stdout",
          "text": [
            "몇 번째? : 1\n",
            "hello\n",
            "몇 번째? : 2\n",
            "hello\n",
            "몇 번째? : 3\n",
            "hello\n",
            "몇 번째? : 4\n",
            "hello\n",
            "몇 번째? : 5\n",
            "hello\n"
          ]
        }
      ]
    },
    {
      "cell_type": "code",
      "source": [
        "# 구구단\n",
        "for i in range(1,10,1):\n",
        "  print(\"2 *\",i,\"=\", 2*i)"
      ],
      "metadata": {
        "colab": {
          "base_uri": "https://localhost:8080/"
        },
        "id": "LOcIwVXVyNbc",
        "outputId": "01f357ee-037b-4fc3-c90e-d9816fcfa0c6"
      },
      "execution_count": null,
      "outputs": [
        {
          "output_type": "stream",
          "name": "stdout",
          "text": [
            "2 * 1 = 2\n",
            "2 * 2 = 4\n",
            "2 * 3 = 6\n",
            "2 * 4 = 8\n",
            "2 * 5 = 10\n",
            "2 * 6 = 12\n",
            "2 * 7 = 14\n",
            "2 * 8 = 16\n",
            "2 * 9 = 18\n"
          ]
        }
      ]
    },
    {
      "cell_type": "code",
      "source": [
        "# 구구단 2-9단 출력\n",
        "for i in range(2,10,1):\n",
        "  print(\"구구단\",i,\"단\")\n",
        "  for j in range(1,10,1):\n",
        "    print(i,\"*\",j,\"=\",i*j)"
      ],
      "metadata": {
        "colab": {
          "base_uri": "https://localhost:8080/"
        },
        "id": "sTJlRrSMzpeW",
        "outputId": "09d5ed9e-e0e4-4d02-ed7b-5ac663787677"
      },
      "execution_count": null,
      "outputs": [
        {
          "output_type": "stream",
          "name": "stdout",
          "text": [
            "구구단 2 단\n",
            "2 * 1 = 2\n",
            "2 * 2 = 4\n",
            "2 * 3 = 6\n",
            "2 * 4 = 8\n",
            "2 * 5 = 10\n",
            "2 * 6 = 12\n",
            "2 * 7 = 14\n",
            "2 * 8 = 16\n",
            "2 * 9 = 18\n",
            "구구단 3 단\n",
            "3 * 1 = 3\n",
            "3 * 2 = 6\n",
            "3 * 3 = 9\n",
            "3 * 4 = 12\n",
            "3 * 5 = 15\n",
            "3 * 6 = 18\n",
            "3 * 7 = 21\n",
            "3 * 8 = 24\n",
            "3 * 9 = 27\n",
            "구구단 4 단\n",
            "4 * 1 = 4\n",
            "4 * 2 = 8\n",
            "4 * 3 = 12\n",
            "4 * 4 = 16\n",
            "4 * 5 = 20\n",
            "4 * 6 = 24\n",
            "4 * 7 = 28\n",
            "4 * 8 = 32\n",
            "4 * 9 = 36\n",
            "구구단 5 단\n",
            "5 * 1 = 5\n",
            "5 * 2 = 10\n",
            "5 * 3 = 15\n",
            "5 * 4 = 20\n",
            "5 * 5 = 25\n",
            "5 * 6 = 30\n",
            "5 * 7 = 35\n",
            "5 * 8 = 40\n",
            "5 * 9 = 45\n",
            "구구단 6 단\n",
            "6 * 1 = 6\n",
            "6 * 2 = 12\n",
            "6 * 3 = 18\n",
            "6 * 4 = 24\n",
            "6 * 5 = 30\n",
            "6 * 6 = 36\n",
            "6 * 7 = 42\n",
            "6 * 8 = 48\n",
            "6 * 9 = 54\n",
            "구구단 7 단\n",
            "7 * 1 = 7\n",
            "7 * 2 = 14\n",
            "7 * 3 = 21\n",
            "7 * 4 = 28\n",
            "7 * 5 = 35\n",
            "7 * 6 = 42\n",
            "7 * 7 = 49\n",
            "7 * 8 = 56\n",
            "7 * 9 = 63\n",
            "구구단 8 단\n",
            "8 * 1 = 8\n",
            "8 * 2 = 16\n",
            "8 * 3 = 24\n",
            "8 * 4 = 32\n",
            "8 * 5 = 40\n",
            "8 * 6 = 48\n",
            "8 * 7 = 56\n",
            "8 * 8 = 64\n",
            "8 * 9 = 72\n",
            "구구단 9 단\n",
            "9 * 1 = 9\n",
            "9 * 2 = 18\n",
            "9 * 3 = 27\n",
            "9 * 4 = 36\n",
            "9 * 5 = 45\n",
            "9 * 6 = 54\n",
            "9 * 7 = 63\n",
            "9 * 8 = 72\n",
            "9 * 9 = 81\n"
          ]
        }
      ]
    },
    {
      "cell_type": "code",
      "source": [
        "# 2주차\n",
        "\n",
        "# 정수, 실수 문자형\n",
        "print(100+200)\n",
        "print(\"100\"+\"200\")\n",
        "#type 함수\n",
        "# str() // 몫 / 나머지\n",
        "# if 조건식 :\n",
        "#      코드\n",
        "# x != y 같지 않다\n",
        "\n",
        "number = int(input(\"값을 입력해주세요 : \"))\n",
        "if number > 0 :\n",
        "  print(\"양수입니다\")\n",
        "\n",
        "print(\"프로그램이 종료되었습니다.\")\n"
      ],
      "metadata": {
        "colab": {
          "base_uri": "https://localhost:8080/"
        },
        "id": "PHuSYP4mtGPE",
        "outputId": "f95b6594-caef-468f-a9a0-95ffb6e53776"
      },
      "execution_count": null,
      "outputs": [
        {
          "output_type": "stream",
          "name": "stdout",
          "text": [
            "300\n",
            "100200\n",
            "값을 입력해주세요 : 3\n",
            "양수입니다\n",
            "프로그램이 종료되었습니다.\n"
          ]
        }
      ]
    },
    {
      "cell_type": "markdown",
      "source": [
        "if ~ else\n",
        "if ~ elif ~ else"
      ],
      "metadata": {
        "id": "Ogdr7eMZvrOH"
      }
    },
    {
      "cell_type": "code",
      "source": [
        "number = int(input(\"값을 입력해주세요 : \"))\n",
        "if number > 0 :\n",
        "  print(\"양수입니다\")\n",
        "  if number % 2 == 0 : # if 문 안에 if 입력!\n",
        "    print(\"2의 배수입니다\")\n",
        "  else :\n",
        "    print(\"2의 배수가 아닙니다\")\n",
        "elif number < 0:\n",
        "  print(\"음수입니다\")\n",
        "else :\n",
        "  print(\"0입니다\")\n",
        "print(\"프로그램이 종료되었습니다.\")"
      ],
      "metadata": {
        "colab": {
          "base_uri": "https://localhost:8080/"
        },
        "id": "tiyaYuq1vsJ6",
        "outputId": "549d6328-0373-4e73-cc8e-b3f221eee724"
      },
      "execution_count": null,
      "outputs": [
        {
          "output_type": "stream",
          "name": "stdout",
          "text": [
            "값을 입력해주세요 : 9\n",
            "양수입니다\n",
            "2의 배수가 아닙니다\n",
            "프로그램이 종료되었습니다.\n"
          ]
        }
      ]
    },
    {
      "cell_type": "code",
      "source": [
        "# for문\n",
        "# for 변수 in range(횟수):\n",
        "#    반복할 코드\n",
        "for i in range(3):\n",
        "  print(\"1번\")\n",
        "for i in range(0,3):\n",
        "  print(\"2번\")\n",
        "for i in range(0,3,1):\n",
        "  print(\"3번\")\n",
        "\n",
        "# while 문\n",
        "# 초기식\n",
        "# while  조건식 :\n",
        "#         반복할 코드\n",
        "#         변화식\n",
        "# i = i+1    i +=1\n",
        "\n",
        "\n",
        "# 전체 주석 ctrl + /\n",
        "\n",
        "\n",
        "# 2~9단 구구단 (while문)\n",
        "i = 2\n",
        "while i<10 :\n",
        "  j = 1\n",
        "  print(i,\"단\")\n",
        "  while j <10 :\n",
        "    print(i,\"*\",j,\" = \",i*j)\n",
        "    j += 1\n",
        "  i +=1"
      ],
      "metadata": {
        "colab": {
          "base_uri": "https://localhost:8080/"
        },
        "id": "9s9rG1mww-nw",
        "outputId": "8c24dd97-ab5a-48b8-a5b3-5e57df36ccc0"
      },
      "execution_count": null,
      "outputs": [
        {
          "output_type": "stream",
          "name": "stdout",
          "text": [
            "1번\n",
            "1번\n",
            "1번\n",
            "2번\n",
            "2번\n",
            "2번\n",
            "3번\n",
            "3번\n",
            "3번\n",
            "2 단\n",
            "2 * 1  =  2\n",
            "2 * 2  =  4\n",
            "2 * 3  =  6\n",
            "2 * 4  =  8\n",
            "2 * 5  =  10\n",
            "2 * 6  =  12\n",
            "2 * 7  =  14\n",
            "2 * 8  =  16\n",
            "2 * 9  =  18\n",
            "3 단\n",
            "3 * 1  =  3\n",
            "3 * 2  =  6\n",
            "3 * 3  =  9\n",
            "3 * 4  =  12\n",
            "3 * 5  =  15\n",
            "3 * 6  =  18\n",
            "3 * 7  =  21\n",
            "3 * 8  =  24\n",
            "3 * 9  =  27\n",
            "4 단\n",
            "4 * 1  =  4\n",
            "4 * 2  =  8\n",
            "4 * 3  =  12\n",
            "4 * 4  =  16\n",
            "4 * 5  =  20\n",
            "4 * 6  =  24\n",
            "4 * 7  =  28\n",
            "4 * 8  =  32\n",
            "4 * 9  =  36\n",
            "5 단\n",
            "5 * 1  =  5\n",
            "5 * 2  =  10\n",
            "5 * 3  =  15\n",
            "5 * 4  =  20\n",
            "5 * 5  =  25\n",
            "5 * 6  =  30\n",
            "5 * 7  =  35\n",
            "5 * 8  =  40\n",
            "5 * 9  =  45\n",
            "6 단\n",
            "6 * 1  =  6\n",
            "6 * 2  =  12\n",
            "6 * 3  =  18\n",
            "6 * 4  =  24\n",
            "6 * 5  =  30\n",
            "6 * 6  =  36\n",
            "6 * 7  =  42\n",
            "6 * 8  =  48\n",
            "6 * 9  =  54\n",
            "7 단\n",
            "7 * 1  =  7\n",
            "7 * 2  =  14\n",
            "7 * 3  =  21\n",
            "7 * 4  =  28\n",
            "7 * 5  =  35\n",
            "7 * 6  =  42\n",
            "7 * 7  =  49\n",
            "7 * 8  =  56\n",
            "7 * 9  =  63\n",
            "8 단\n",
            "8 * 1  =  8\n",
            "8 * 2  =  16\n",
            "8 * 3  =  24\n",
            "8 * 4  =  32\n",
            "8 * 5  =  40\n",
            "8 * 6  =  48\n",
            "8 * 7  =  56\n",
            "8 * 8  =  64\n",
            "8 * 9  =  72\n",
            "9 단\n",
            "9 * 1  =  9\n",
            "9 * 2  =  18\n",
            "9 * 3  =  27\n",
            "9 * 4  =  36\n",
            "9 * 5  =  45\n",
            "9 * 6  =  54\n",
            "9 * 7  =  63\n",
            "9 * 8  =  72\n",
            "9 * 9  =  81\n"
          ]
        }
      ]
    },
    {
      "cell_type": "code",
      "source": [
        "# 1~100 중에서 7의 배수 출력\n",
        "for i in range (1,101):\n",
        "  if i % 7 == 0:\n",
        "    print(i,\"는 7의 배수입니다다\")\n",
        "\n",
        "\n",
        "# 7의 배수 i % 7 == 0\n"
      ],
      "metadata": {
        "colab": {
          "base_uri": "https://localhost:8080/"
        },
        "id": "dJ70I3yrzvaZ",
        "outputId": "a7934d00-563f-445c-c715-8b7ecb889839"
      },
      "execution_count": null,
      "outputs": [
        {
          "output_type": "stream",
          "name": "stdout",
          "text": [
            "7 는 7의 배수입니다다\n",
            "14 는 7의 배수입니다다\n",
            "21 는 7의 배수입니다다\n",
            "28 는 7의 배수입니다다\n",
            "35 는 7의 배수입니다다\n",
            "42 는 7의 배수입니다다\n",
            "49 는 7의 배수입니다다\n",
            "56 는 7의 배수입니다다\n",
            "63 는 7의 배수입니다다\n",
            "70 는 7의 배수입니다다\n",
            "77 는 7의 배수입니다다\n",
            "84 는 7의 배수입니다다\n",
            "91 는 7의 배수입니다다\n",
            "98 는 7의 배수입니다다\n"
          ]
        }
      ]
    },
    {
      "cell_type": "code",
      "source": [
        "# 1부터 100까지의 수에서 소수 출력하기\n",
        "for i in range(2,101):\n",
        "  j = 1\n",
        "  for j in range(2,i):\n",
        "    if i % j == 0:\n",
        "      j = 0\n",
        "  if j == 1 :\n",
        "    print(i,\"는 소수입니다\")\n",
        "\n",
        "\n",
        "# break continue"
      ],
      "metadata": {
        "colab": {
          "base_uri": "https://localhost:8080/"
        },
        "id": "-9mxrmyi0tLR",
        "outputId": "b30615ff-dfb2-4a61-820d-0ab8a789709b"
      },
      "execution_count": null,
      "outputs": [
        {
          "output_type": "stream",
          "name": "stdout",
          "text": [
            "2 는 소수입니다\n"
          ]
        }
      ]
    },
    {
      "cell_type": "code",
      "source": [
        "for i in range(10):\n",
        "  print(i)\n",
        "  if i == 5:\n",
        "    break\n",
        "\n",
        "#######################\n",
        "for i in range(10):\n",
        "  if i >=5 :\n",
        "    continue\n",
        "  print(i)\n"
      ],
      "metadata": {
        "colab": {
          "base_uri": "https://localhost:8080/"
        },
        "id": "bAnq2Nwa3Zr3",
        "outputId": "2587eb23-c9a3-4beb-e93f-74d7dc4785da"
      },
      "execution_count": null,
      "outputs": [
        {
          "output_type": "stream",
          "name": "stdout",
          "text": [
            "0\n",
            "1\n",
            "2\n",
            "3\n",
            "4\n",
            "5\n",
            "0\n",
            "1\n",
            "2\n",
            "3\n",
            "4\n"
          ]
        }
      ]
    },
    {
      "cell_type": "code",
      "source": [
        "for i in range(10):\n",
        "  print(\"*\", end = \"\")\n",
        "# 콜라츠 추측"
      ],
      "metadata": {
        "colab": {
          "base_uri": "https://localhost:8080/"
        },
        "id": "TWVJnnc3wUAs",
        "outputId": "0bc4ec6c-d07b-4a82-8688-4552c2cef6c0"
      },
      "execution_count": null,
      "outputs": [
        {
          "output_type": "stream",
          "name": "stdout",
          "text": [
            "**********"
          ]
        }
      ]
    },
    {
      "cell_type": "code",
      "source": [
        "# 3주차\n",
        "score = int(input(\"성적을 입력하시오:\"))\n",
        "if score >= 60:\n",
        "  print(\"합격입니다.\")\n",
        "  if score >90:\n",
        "    print(\"장학금도 받을 수 있습니다.\")\n",
        "else :\n",
        "  print(\"불합격입니다\")"
      ],
      "metadata": {
        "id": "hlW29a2P4bVW",
        "colab": {
          "base_uri": "https://localhost:8080/"
        },
        "outputId": "9fa124b0-58da-40c9-944d-476c2a5cb57f"
      },
      "execution_count": null,
      "outputs": [
        {
          "output_type": "stream",
          "name": "stdout",
          "text": [
            "성적을 입력하시오:60\n",
            "합격입니다.\n"
          ]
        }
      ]
    },
    {
      "cell_type": "code",
      "source": [
        "# 리스트 list\n",
        "#list 만들기\n",
        "a = []\n",
        "b = [1,2,3,4,5]\n",
        "c = ['a','b','c','d','e']\n",
        "d = ['Hello','everyone','my','name','MY']\n",
        "\n",
        "#list 출력\n",
        "print(a)\n",
        "print(b)\n",
        "print(c)\n",
        "print(d)\n",
        "\n",
        "#list의 원소 하나에 대한 접근\n",
        "print(b)\n",
        "print(b[0])\n",
        "print(b[1])\n",
        "print(b[2])\n",
        "print(b[3])\n",
        "print(b[4])\n",
        "\n",
        "# 반복문 이용\n",
        "for i in range(5):\n",
        "  print(b[i])\n",
        "\n",
        "# 리스트 하나하나를 반복문으로 출력하는 것도 가능\n",
        "\n",
        "for i in b:\n",
        "  print(i)\n",
        "\n",
        "e = list(range(10))\n",
        "f = [i for i in range(10)]\n",
        "g = [2 * i for i in range(10)]\n",
        "print(e)\n",
        "print(f)\n",
        "print(g)\n",
        "\n",
        "#0부터 14까지 2의 배수\n",
        "x = [i for i in range(15) if i % 2 == 0]\n",
        "print(x)\n",
        "\n",
        "# 1~100까지 3의 배수 출력\n",
        "y = [i for i in range(1,100) if i % 3 == 0]\n",
        "print(y)"
      ],
      "metadata": {
        "colab": {
          "base_uri": "https://localhost:8080/"
        },
        "id": "uUS3LTSnwuiw",
        "outputId": "ba571949-1d34-4912-e08d-ab8d7871aa08"
      },
      "execution_count": null,
      "outputs": [
        {
          "output_type": "stream",
          "name": "stdout",
          "text": [
            "[]\n",
            "[1, 2, 3, 4, 5]\n",
            "['a', 'b', 'c', 'd', 'e']\n",
            "['Hello', 'everyone', 'my', 'name', 'MY']\n",
            "[1, 2, 3, 4, 5]\n",
            "1\n",
            "2\n",
            "3\n",
            "4\n",
            "5\n",
            "1\n",
            "2\n",
            "3\n",
            "4\n",
            "5\n",
            "1\n",
            "2\n",
            "3\n",
            "4\n",
            "5\n",
            "[0, 1, 2, 3, 4, 5, 6, 7, 8, 9]\n",
            "[0, 1, 2, 3, 4, 5, 6, 7, 8, 9]\n",
            "[0, 2, 4, 6, 8, 10, 12, 14, 16, 18]\n",
            "[0, 2, 4, 6, 8, 10, 12, 14]\n",
            "[3, 6, 9, 12, 15, 18, 21, 24, 27, 30, 33, 36, 39, 42, 45, 48, 51, 54, 57, 60, 63, 66, 69, 72, 75, 78, 81, 84, 87, 90, 93, 96, 99]\n"
          ]
        }
      ]
    },
    {
      "cell_type": "code",
      "source": [
        "# list slicing\n",
        "# a[start : end : step] start 이상 end 미만\n",
        "number = [1,2,3,4,5,6,7,8,9,10]\n",
        "print(number[1:3])\n",
        "print(number[3:])\n",
        "print(number[:3])\n",
        "print(number[::]) # 전체 출력\n",
        "print(number[::-1]) # 거꾸로 출력\n",
        "print(number[1:7:2])\n",
        "print(number[-1]) # 리스트의 가장 끝 값 접근\n",
        "print(number[-2])\n",
        "\n",
        "# 파이썬 list 함수\n",
        "b = [33, 12, 55, 36, 19]\n",
        "print(b)\n",
        "b.sort() # 오름차순으로 정리\n",
        "print(b)\n",
        "b.reverse() # 거꾸로 정렬\n",
        "print(b)\n",
        "b.append(1) # 리스트 제일 뒤에 값 추가\n",
        "print(b)\n",
        "b.insert(2,999) # 리스트 인덱스 2에 999값 추가\n",
        "print(b)\n",
        "del b[2] # 리스트 인덱스 2 값 제거\n",
        "print(b)\n",
        "b.remove(33) # 리스트에서 33의 값 제거 ( 하나만 제거됨 앞에꺼 같은 값 제거 하고 싶으면 set 함수)\n",
        "print(b)\n",
        "print(sum(b)) # 리스트 b의 모든 원소의 합\n",
        "# print(max(b)) # 리스트 b의 원소 중 가장 큰 값\n",
        "# print(min(b)) # 리스트 b의 원소 중 가장 작은 값\n",
        "# print(len(b)) # 리스트 b의 (원소의 개수 or 배열의 길이)\n",
        "\n",
        "#replace / delete/ insert/ append / sort/ reverse\n"
      ],
      "metadata": {
        "colab": {
          "base_uri": "https://localhost:8080/"
        },
        "id": "AiThQp80zZzK",
        "outputId": "af5efc3d-89eb-4d40-cb54-3adef7b8c2af"
      },
      "execution_count": null,
      "outputs": [
        {
          "output_type": "stream",
          "name": "stdout",
          "text": [
            "[2, 3]\n",
            "[4, 5, 6, 7, 8, 9, 10]\n",
            "[1, 2, 3]\n",
            "[1, 2, 3, 4, 5, 6, 7, 8, 9, 10]\n",
            "[10, 9, 8, 7, 6, 5, 4, 3, 2, 1]\n",
            "[2, 4, 6]\n",
            "10\n",
            "9\n",
            "[33, 12, 55, 36, 19]\n",
            "[12, 19, 33, 36, 55]\n",
            "[55, 36, 33, 19, 12]\n",
            "[55, 36, 33, 19, 12, 1]\n",
            "[55, 36, 999, 33, 19, 12, 1]\n",
            "[55, 36, 33, 19, 12, 1]\n",
            "[55, 36, 19, 12, 1]\n",
            "123\n"
          ]
        }
      ]
    },
    {
      "cell_type": "code",
      "source": [
        "# 리스트 있는 값 중 홀수만 출력하기기\n",
        "a = [1,2,3,4,5,6,7,8,9,10,13,15,19,23,12,6,8,10,11]\n",
        "x = [i for i in a if i % 2 == 1]\n",
        "print(x)\n",
        "\n",
        "\n",
        "# for i in range(len(a)-1): # 에러 발생해.. 이걸 for문 안에 쓸라면 index 생각을 잘해야됨됨\n",
        "\n"
      ],
      "metadata": {
        "colab": {
          "base_uri": "https://localhost:8080/"
        },
        "id": "gsdawJal3i5o",
        "outputId": "89c30161-51c4-4ceb-c152-42a9385f57c6"
      },
      "execution_count": null,
      "outputs": [
        {
          "output_type": "stream",
          "name": "stdout",
          "text": [
            "[1, 3, 5, 7, 9, 13, 15, 19, 23, 11]\n"
          ]
        }
      ]
    },
    {
      "cell_type": "code",
      "source": [
        "#s = list(input().split())# 가 나 다 라 마 바사\n",
        "# print(s)\n",
        "num = list(map(int.input().split())) #1 2 3 4 5 6 7 8 9 10\n",
        "print(num)"
      ],
      "metadata": {
        "colab": {
          "base_uri": "https://localhost:8080/",
          "height": 224
        },
        "id": "MvJNJsE27lYg",
        "outputId": "02e4a61a-9e30-4952-95ca-6b361b9f6652"
      },
      "execution_count": null,
      "outputs": [
        {
          "output_type": "error",
          "ename": "AttributeError",
          "evalue": "ignored",
          "traceback": [
            "\u001b[0;31m---------------------------------------------------------------------------\u001b[0m",
            "\u001b[0;31mAttributeError\u001b[0m                            Traceback (most recent call last)",
            "\u001b[0;32m<ipython-input-38-a8b18e666564>\u001b[0m in \u001b[0;36m<cell line: 3>\u001b[0;34m()\u001b[0m\n\u001b[1;32m      1\u001b[0m \u001b[0;31m#s = list(input().split())# 가 나 다 라 마 바사\u001b[0m\u001b[0;34m\u001b[0m\u001b[0;34m\u001b[0m\u001b[0m\n\u001b[1;32m      2\u001b[0m \u001b[0;31m# print(s)\u001b[0m\u001b[0;34m\u001b[0m\u001b[0;34m\u001b[0m\u001b[0m\n\u001b[0;32m----> 3\u001b[0;31m \u001b[0mnum\u001b[0m \u001b[0;34m=\u001b[0m \u001b[0mlist\u001b[0m\u001b[0;34m(\u001b[0m\u001b[0mmap\u001b[0m\u001b[0;34m(\u001b[0m\u001b[0mint\u001b[0m\u001b[0;34m.\u001b[0m\u001b[0minput\u001b[0m\u001b[0;34m(\u001b[0m\u001b[0;34m)\u001b[0m\u001b[0;34m.\u001b[0m\u001b[0msplit\u001b[0m\u001b[0;34m(\u001b[0m\u001b[0;34m)\u001b[0m\u001b[0;34m)\u001b[0m\u001b[0;34m)\u001b[0m \u001b[0;31m#1 2 3 4 5 6 7 8 9 10\u001b[0m\u001b[0;34m\u001b[0m\u001b[0;34m\u001b[0m\u001b[0m\n\u001b[0m\u001b[1;32m      4\u001b[0m \u001b[0mprint\u001b[0m\u001b[0;34m(\u001b[0m\u001b[0mnum\u001b[0m\u001b[0;34m)\u001b[0m\u001b[0;34m\u001b[0m\u001b[0;34m\u001b[0m\u001b[0m\n",
            "\u001b[0;31mAttributeError\u001b[0m: type object 'int' has no attribute 'input'"
          ]
        }
      ]
    }
  ]
}